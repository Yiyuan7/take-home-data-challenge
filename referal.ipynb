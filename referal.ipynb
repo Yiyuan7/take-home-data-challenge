{
 "cells": [
  {
   "cell_type": "code",
   "execution_count": 19,
   "metadata": {},
   "outputs": [],
   "source": [
    "import pandas as pd\n",
    "df = pd.read_csv('referral.csv')"
   ]
  },
  {
   "cell_type": "code",
   "execution_count": 3,
   "metadata": {},
   "outputs": [
    {
     "data": {
      "text/html": [
       "<div>\n",
       "<style>\n",
       "    .dataframe thead tr:only-child th {\n",
       "        text-align: right;\n",
       "    }\n",
       "\n",
       "    .dataframe thead th {\n",
       "        text-align: left;\n",
       "    }\n",
       "\n",
       "    .dataframe tbody tr th {\n",
       "        vertical-align: top;\n",
       "    }\n",
       "</style>\n",
       "<table border=\"1\" class=\"dataframe\">\n",
       "  <thead>\n",
       "    <tr style=\"text-align: right;\">\n",
       "      <th></th>\n",
       "      <th>user_id</th>\n",
       "      <th>date</th>\n",
       "      <th>country</th>\n",
       "      <th>money_spent</th>\n",
       "      <th>is_referral</th>\n",
       "      <th>device_id</th>\n",
       "    </tr>\n",
       "  </thead>\n",
       "  <tbody>\n",
       "    <tr>\n",
       "      <th>0</th>\n",
       "      <td>2</td>\n",
       "      <td>2015-10-03</td>\n",
       "      <td>FR</td>\n",
       "      <td>65</td>\n",
       "      <td>0</td>\n",
       "      <td>EVDCJTZMVMJDG</td>\n",
       "    </tr>\n",
       "    <tr>\n",
       "      <th>1</th>\n",
       "      <td>3</td>\n",
       "      <td>2015-10-03</td>\n",
       "      <td>CA</td>\n",
       "      <td>54</td>\n",
       "      <td>0</td>\n",
       "      <td>WUBZFTVKXGQQX</td>\n",
       "    </tr>\n",
       "    <tr>\n",
       "      <th>2</th>\n",
       "      <td>6</td>\n",
       "      <td>2015-10-03</td>\n",
       "      <td>FR</td>\n",
       "      <td>35</td>\n",
       "      <td>0</td>\n",
       "      <td>CBAPCJRTFNUJG</td>\n",
       "    </tr>\n",
       "    <tr>\n",
       "      <th>3</th>\n",
       "      <td>7</td>\n",
       "      <td>2015-10-03</td>\n",
       "      <td>UK</td>\n",
       "      <td>73</td>\n",
       "      <td>0</td>\n",
       "      <td>PRGXJZAJKMXRH</td>\n",
       "    </tr>\n",
       "    <tr>\n",
       "      <th>4</th>\n",
       "      <td>7</td>\n",
       "      <td>2015-10-03</td>\n",
       "      <td>MX</td>\n",
       "      <td>35</td>\n",
       "      <td>0</td>\n",
       "      <td>PRGXJZAJKMXRH</td>\n",
       "    </tr>\n",
       "  </tbody>\n",
       "</table>\n",
       "</div>"
      ],
      "text/plain": [
       "   user_id        date country  money_spent  is_referral      device_id\n",
       "0        2  2015-10-03      FR           65            0  EVDCJTZMVMJDG\n",
       "1        3  2015-10-03      CA           54            0  WUBZFTVKXGQQX\n",
       "2        6  2015-10-03      FR           35            0  CBAPCJRTFNUJG\n",
       "3        7  2015-10-03      UK           73            0  PRGXJZAJKMXRH\n",
       "4        7  2015-10-03      MX           35            0  PRGXJZAJKMXRH"
      ]
     },
     "execution_count": 3,
     "metadata": {},
     "output_type": "execute_result"
    }
   ],
   "source": [
    "df.head()"
   ]
  },
  {
   "cell_type": "code",
   "execution_count": 5,
   "metadata": {},
   "outputs": [],
   "source": [
    "def count_spent(df):\n",
    "    d = {}\n",
    "    d['n_purchase'] = df.shape[0]# number of purchase in that day\n",
    "    d['total_spent'] = df.money_spent.sum() # total money spent in that day\n",
    "    d['n_customer'] = df.user_id.unique().shape[0] # how many customers access the store that day\n",
    "    return pd.Series(d)\n",
    "\n",
    "grpby_day = df.groupby('date').apply(count_spent)"
   ]
  },
  {
   "cell_type": "code",
   "execution_count": 10,
   "metadata": {
    "scrolled": true
   },
   "outputs": [
    {
     "data": {
      "text/plain": [
       "UK    15493\n",
       "FR    15396\n",
       "US    15280\n",
       "IT    11446\n",
       "DE    11093\n",
       "ES     9831\n",
       "CA     9440\n",
       "MX     8133\n",
       "CH     1229\n",
       "Name: country, dtype: int64"
      ]
     },
     "execution_count": 10,
     "metadata": {},
     "output_type": "execute_result"
    }
   ],
   "source": [
    "df.country.value_counts()"
   ]
  },
  {
   "cell_type": "code",
   "execution_count": 20,
   "metadata": {},
   "outputs": [],
   "source": [
    "df = df.drop(['device_id'],axis=1)"
   ]
  },
  {
   "cell_type": "code",
   "execution_count": 21,
   "metadata": {},
   "outputs": [
    {
     "data": {
      "text/html": [
       "<div>\n",
       "<style>\n",
       "    .dataframe thead tr:only-child th {\n",
       "        text-align: right;\n",
       "    }\n",
       "\n",
       "    .dataframe thead th {\n",
       "        text-align: left;\n",
       "    }\n",
       "\n",
       "    .dataframe tbody tr th {\n",
       "        vertical-align: top;\n",
       "    }\n",
       "</style>\n",
       "<table border=\"1\" class=\"dataframe\">\n",
       "  <thead>\n",
       "    <tr style=\"text-align: right;\">\n",
       "      <th></th>\n",
       "      <th>mean_pre</th>\n",
       "      <th>mean_post</th>\n",
       "      <th>mean_diff</th>\n",
       "      <th>pvalue</th>\n",
       "    </tr>\n",
       "  </thead>\n",
       "  <tbody>\n",
       "    <tr>\n",
       "      <th>total_spent</th>\n",
       "      <td>71657.000000</td>\n",
       "      <td>83714.392857</td>\n",
       "      <td>12057.392857</td>\n",
       "      <td>0.135194</td>\n",
       "    </tr>\n",
       "    <tr>\n",
       "      <th>n_purchase</th>\n",
       "      <td>1690.750000</td>\n",
       "      <td>1785.714286</td>\n",
       "      <td>94.964286</td>\n",
       "      <td>0.348257</td>\n",
       "    </tr>\n",
       "    <tr>\n",
       "      <th>n_customer</th>\n",
       "      <td>1384.464286</td>\n",
       "      <td>1686.964286</td>\n",
       "      <td>302.500000</td>\n",
       "      <td>0.059545</td>\n",
       "    </tr>\n",
       "  </tbody>\n",
       "</table>\n",
       "</div>"
      ],
      "text/plain": [
       "                 mean_pre     mean_post     mean_diff    pvalue\n",
       "total_spent  71657.000000  83714.392857  12057.392857  0.135194\n",
       "n_purchase    1690.750000   1785.714286     94.964286  0.348257\n",
       "n_customer    1384.464286   1686.964286    302.500000  0.059545"
      ]
     },
     "execution_count": 21,
     "metadata": {},
     "output_type": "execute_result"
    }
   ],
   "source": [
    "import datetime\n",
    "import scipy.stats as ss\n",
    "\n",
    "df['date'] = pd.to_datetime( df.date )\n",
    "def daily_statistics(df):\n",
    "    \"\"\"\n",
    "    given a dataframe\n",
    "    1.  group by day, and return '#purchase','total spent money','#customers' on each day\n",
    "    2.  split daily data into two groups, before the program and after the program\n",
    "    3.  for each 'sale index' ('#purchase','total spent money','#customers'), \n",
    "        calculate the mean before/after the program, their difference, and pvalue \n",
    "    \"\"\"\n",
    "    grpby_day = df.groupby('date').apply(count_spent)\n",
    "\n",
    "    grpby_day_before = grpby_day.loc[grpby_day.index < dt_referral_starts, :]\n",
    "    grpby_day_after = grpby_day.loc[grpby_day.index >= dt_referral_starts, :]\n",
    "\n",
    "    d = []\n",
    "    colnames = ['total_spent','n_purchase','n_customer']\n",
    "    for col in colnames:\n",
    "        pre_data = grpby_day_before.loc[:,col]\n",
    "        pre_mean = pre_data.mean()\n",
    "\n",
    "        post_data = grpby_day_after.loc[:,col]\n",
    "        post_mean = post_data.mean()\n",
    "\n",
    "        result = ss.ttest_ind(pre_data, post_data, equal_var=False)#this is 2 tailed test so if we want to know \n",
    "        #if mean1<menan2 instead of mean1!=mean2, we have to use one tail tets, the p value will be p/2\n",
    "        #because this is a symmtery distribution\n",
    "        # either greater or smaller, just one-tail test\n",
    "        pvalue = result.pvalue / 2 \n",
    "\n",
    "        d.append({'mean_pre':pre_mean,'mean_post':post_mean,'mean_diff':post_mean - pre_mean,\n",
    "                  'pvalue':pvalue})\n",
    "\n",
    "    # re-order the columns\n",
    "    return pd.DataFrame(d,index = colnames).loc[:,['mean_pre','mean_post','mean_diff','pvalue']]\n",
    "dt_referral_starts = datetime.datetime(2015,10,31)\n",
    "daily_statistics(df)"
   ]
  },
  {
   "cell_type": "code",
   "execution_count": null,
   "metadata": {},
   "outputs": [],
   "source": []
  }
 ],
 "metadata": {
  "kernelspec": {
   "display_name": "Python 3",
   "language": "python",
   "name": "python3"
  },
  "language_info": {
   "codemirror_mode": {
    "name": "ipython",
    "version": 3
   },
   "file_extension": ".py",
   "mimetype": "text/x-python",
   "name": "python",
   "nbconvert_exporter": "python",
   "pygments_lexer": "ipython3",
   "version": "3.6.1"
  }
 },
 "nbformat": 4,
 "nbformat_minor": 2
}
